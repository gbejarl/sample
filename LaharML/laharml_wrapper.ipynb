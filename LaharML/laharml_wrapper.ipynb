{
 "cells": [
  {
   "cell_type": "markdown",
   "id": "51df9e61",
   "metadata": {},
   "source": [
    "# A model workflow for LaharML\n",
    "\n",
    "### LaharML is a machine-learning classifier for the detection of floods and debris flows from seismic signals.\n",
    "\n",
    "This notebook defines the inputs to run the `extract_from_directory_general_model` module which in depends on some functions in the `laharml` module. The `XX.XXXX.XX.XXX_modelscaler.py` file is used to build the machine learning based model and data scaler that LaharML is based on."
   ]
  },
  {
   "cell_type": "code",
   "execution_count": null,
   "id": "b8999340",
   "metadata": {},
   "outputs": [],
   "source": [
    "from extract_from_directory_general_model import run_detection"
   ]
  },
  {
   "cell_type": "markdown",
   "id": "3cd4dc16",
   "metadata": {},
   "source": [
    "### Set variables\n",
    "\n",
    "* `stream_filepath` (str, required): Full file path to stream file with seismic data in MSEED format.\n",
    "* `network` (str, optional): Network code of the station from where the stream comes from. If `None`, this information is extracted from the MSEED headers. Defaults to `None`.\n",
    "* `station` (str, optional): Station code of the station from where the stream comes from. If `None`, this information is extracted from the MSEED headers. Defaults to `None`.\n",
    "* `location` (str, optional): Location code of the station from where the stream comes from. If `None`, this information is extracted from the MSEED headers. Defaults to `None`.\n",
    "* `channel` (str, optional): Channel code of the station from where the stream comes from. It is recommended to use the vertical channel or component of the sensor. If `None`, this information is extracted from the MSEED headers. Defaults to `None`.\n",
    "* `model_label` (str, required): Detection model name. Choose between `'50Hz01min25'` or `'50Hz05min25'`.\n",
    "* `minimum_frequency` (float, optional): High-pass filters the signal above this frequency. If `None`, no filter is performed. Defaults to `None`.\n",
    "* `minimum_duration_to_alert` (float, required): Lahar events below this duration will not be accounted for.\n"
   ]
  },
  {
   "cell_type": "markdown",
   "id": "c2c9dd5c",
   "metadata": {},
   "source": [
    "### A quick explanation\n",
    "\n",
    "The stream files you are working with contain seismic data recorded at specific stations, capturing ground vibrations over time. These files are used to detect lahars—volcanic mudflows—by analyzing patterns in the seismic signals. Each file represents a continuous record from a particular location and channel, providing the raw data needed for automated event detection using the LaharML classifier.\n",
    "\n",
    "For your reference, in the figure below, FEC4 and FEC1 stations (where data streams in the \"Sample data\" folder come from) are located in section B of the figure which focuses on the lahar channel known as Ceniza."
   ]
  },
  {
   "cell_type": "markdown",
   "id": "47f891cf",
   "metadata": {},
   "source": [
    "<img src=\"/Users/gustavo/Developer/sample/LaharML/LocationMap.jpeg\" alt=\"LaharML Workflow\" width=\"400\"/>"
   ]
  },
  {
   "cell_type": "markdown",
   "id": "f5b3755a",
   "metadata": {},
   "source": [
    "In the snippet below, replace the `stream_filepath` variable with the path of any of the files in the Sample data folder. The 2022 file comes from a larger dataset including records from 2018 to 2022 on which this detector was trained. On the other hand, while 2023 data is new for the classifier, it still performs well for unobserved datasets."
   ]
  },
  {
   "cell_type": "code",
   "execution_count": null,
   "id": "6eafe18a",
   "metadata": {},
   "outputs": [],
   "source": [
    "# You set your variables here\n",
    "stream_filepath = \"\" # Replace with file path\n",
    "network = None #\n",
    "station = None #\n",
    "location = None #\n",
    "channel = None #\n",
    "sensitivity = 3.0172e8\n",
    "model_label = '50Hz01min25' # or '50Hz05min25' \n",
    "minimum_frequency = None\n",
    "minimum_duration_to_alert = 10"
   ]
  },
  {
   "cell_type": "markdown",
   "id": "94be38fa",
   "metadata": {},
   "source": [
    "### What's happening?\n",
    "\n",
    "When you run the code below, the `run_detection` function processes the seismic data file specified in `stream_filepath` using the LaharML classifier. It applies the selected detection model (`model_label`) and uses the provided parameters to filter and analyze the signal. The models are stored in the \"Models\" folder. The function identifies potential lahar events based on the seismic patterns, only reporting events that exceed the minimum duration set by `minimum_duration_to_alert`. The output will summarize detected events, helping you assess flood and debris flow activity at the chosen station and channel.\n",
    "\n",
    "The output includes a .csv file whose name starts with the `detections` prefix and a figure with three panes. In the upper pane, you will find the raw waveform for the file you selected. In the middle pane, you will find the raw classifications based on the K-nearest neighbor algorithm. In the lower pane, you will find the post-processed detections the include a routine for noise reduction and interval delineation. Those intervals explain the start and end time of the lahar event and are saved in the .csv output file."
   ]
  },
  {
   "cell_type": "code",
   "execution_count": null,
   "id": "f2e0b46d",
   "metadata": {},
   "outputs": [],
   "source": [
    "run_detection(\n",
    "    stream_filepath,\n",
    "    network,\n",
    "    station,\n",
    "    location,\n",
    "    channel,\n",
    "    sensitivity,\n",
    "    model_label,\n",
    "    minimum_frequency,\n",
    "    minimum_duration_to_alert\n",
    ")"
   ]
  }
 ],
 "metadata": {
  "kernelspec": {
   "display_name": "seismic",
   "language": "python",
   "name": "python3"
  },
  "language_info": {
   "codemirror_mode": {
    "name": "ipython",
    "version": 3
   },
   "file_extension": ".py",
   "mimetype": "text/x-python",
   "name": "python",
   "nbconvert_exporter": "python",
   "pygments_lexer": "ipython3",
   "version": "3.10.9"
  }
 },
 "nbformat": 4,
 "nbformat_minor": 5
}
